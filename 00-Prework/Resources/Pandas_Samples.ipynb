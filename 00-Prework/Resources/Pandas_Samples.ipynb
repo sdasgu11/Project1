{
 "cells": [
  {
   "cell_type": "code",
   "execution_count": 25,
   "metadata": {},
   "outputs": [
    {
     "data": {
      "text/plain": [
       "'/Users/Vikas'"
      ]
     },
     "execution_count": 25,
     "metadata": {},
     "output_type": "execute_result"
    }
   ],
   "source": [
    "pwd"
   ]
  },
  {
   "cell_type": "code",
   "execution_count": 26,
   "metadata": {
    "collapsed": true
   },
   "outputs": [],
   "source": [
    "# Refer the URL https://pandas.pydata.org/pandas-docs/stable/10min.html\n",
    "# to get more details"
   ]
  },
  {
   "cell_type": "code",
   "execution_count": 2,
   "metadata": {
    "collapsed": true
   },
   "outputs": [],
   "source": [
    "# Because all 3 libraries are mostly used for analytcis they are all imported together \n",
    "# and named as pd, nm and plt respectively though we can call teh instances anything\n",
    "import pandas as pd\n",
    "import numpy as np\n",
    "import matplotlib.pyplot as plt"
   ]
  },
  {
   "cell_type": "code",
   "execution_count": 5,
   "metadata": {},
   "outputs": [
    {
     "data": {
      "text/plain": [
       "0    1.0\n",
       "1    2.0\n",
       "2    3.0\n",
       "3    NaN\n",
       "4    5.0\n",
       "5    6.0\n",
       "dtype: float64"
      ]
     },
     "execution_count": 5,
     "metadata": {},
     "output_type": "execute_result"
    }
   ],
   "source": [
    "# Create a pandas series i.e a single list of values\n",
    "pd_srs = pd.Series([1,2,3,np.nan,5,6])\n",
    "pd_srs"
   ]
  },
  {
   "cell_type": "code",
   "execution_count": 23,
   "metadata": {},
   "outputs": [
    {
     "data": {
      "text/html": [
       "<div>\n",
       "<style>\n",
       "    .dataframe thead tr:only-child th {\n",
       "        text-align: right;\n",
       "    }\n",
       "\n",
       "    .dataframe thead th {\n",
       "        text-align: left;\n",
       "    }\n",
       "\n",
       "    .dataframe tbody tr th {\n",
       "        vertical-align: top;\n",
       "    }\n",
       "</style>\n",
       "<table border=\"1\" class=\"dataframe\">\n",
       "  <thead>\n",
       "    <tr style=\"text-align: right;\">\n",
       "      <th></th>\n",
       "      <th>Age</th>\n",
       "      <th>Country</th>\n",
       "      <th>Gender</th>\n",
       "      <th>Name</th>\n",
       "    </tr>\n",
       "  </thead>\n",
       "  <tbody>\n",
       "    <tr>\n",
       "      <th>0</th>\n",
       "      <td>10</td>\n",
       "      <td>USA</td>\n",
       "      <td>M</td>\n",
       "      <td>Person 1</td>\n",
       "    </tr>\n",
       "    <tr>\n",
       "      <th>1</th>\n",
       "      <td>20</td>\n",
       "      <td>CHINA</td>\n",
       "      <td>F</td>\n",
       "      <td>Person 2</td>\n",
       "    </tr>\n",
       "    <tr>\n",
       "      <th>2</th>\n",
       "      <td>30</td>\n",
       "      <td>INDIA</td>\n",
       "      <td>NaN</td>\n",
       "      <td>Person 3</td>\n",
       "    </tr>\n",
       "  </tbody>\n",
       "</table>\n",
       "</div>"
      ],
      "text/plain": [
       "   Age Country Gender      Name\n",
       "0   10     USA      M  Person 1\n",
       "1   20   CHINA      F  Person 2\n",
       "2   30   INDIA    NaN  Person 3"
      ]
     },
     "execution_count": 23,
     "metadata": {},
     "output_type": "execute_result"
    }
   ],
   "source": [
    "#Create a dataframe using list of dictonaries\n",
    "#If you are comforatble using Row based approach\n",
    "persons = [{'Name': 'Person 1', 'Country':'USA', 'Age': 10, 'Gender':'M'},\n",
    "         {'Name': 'Person 2', 'Country':'CHINA', 'Age': 20, 'Gender':'F'},\n",
    "         {'Name': 'Person 3', 'Country':'INDIA', 'Age': 30, 'Gender':np.NaN}]\n",
    "pd.DataFrame.from_dict(persons)"
   ]
  },
  {
   "cell_type": "code",
   "execution_count": 55,
   "metadata": {},
   "outputs": [
    {
     "data": {
      "text/html": [
       "<div>\n",
       "<style>\n",
       "    .dataframe thead tr:only-child th {\n",
       "        text-align: right;\n",
       "    }\n",
       "\n",
       "    .dataframe thead th {\n",
       "        text-align: left;\n",
       "    }\n",
       "\n",
       "    .dataframe tbody tr th {\n",
       "        vertical-align: top;\n",
       "    }\n",
       "</style>\n",
       "<table border=\"1\" class=\"dataframe\">\n",
       "  <thead>\n",
       "    <tr style=\"text-align: right;\">\n",
       "      <th></th>\n",
       "      <th>Age</th>\n",
       "      <th>Country</th>\n",
       "      <th>Gender</th>\n",
       "      <th>Name</th>\n",
       "    </tr>\n",
       "  </thead>\n",
       "  <tbody>\n",
       "    <tr>\n",
       "      <th>0</th>\n",
       "      <td>10</td>\n",
       "      <td>USA</td>\n",
       "      <td>M</td>\n",
       "      <td>Person 1</td>\n",
       "    </tr>\n",
       "    <tr>\n",
       "      <th>1</th>\n",
       "      <td>20</td>\n",
       "      <td>CHINA</td>\n",
       "      <td>F</td>\n",
       "      <td>Person 2</td>\n",
       "    </tr>\n",
       "    <tr>\n",
       "      <th>2</th>\n",
       "      <td>30</td>\n",
       "      <td>INDIA</td>\n",
       "      <td>NaN</td>\n",
       "      <td>Person 3</td>\n",
       "    </tr>\n",
       "  </tbody>\n",
       "</table>\n",
       "</div>"
      ],
      "text/plain": [
       "   Age Country Gender      Name\n",
       "0   10     USA      M  Person 1\n",
       "1   20   CHINA      F  Person 2\n",
       "2   30   INDIA    NaN  Person 3"
      ]
     },
     "execution_count": 55,
     "metadata": {},
     "output_type": "execute_result"
    }
   ],
   "source": [
    "#Create a dataframe using dictonaries of list\n",
    "#If you are comforatble using column approach\n",
    "persons = {'Name': ['Person 1', 'Person 2', 'Person 3'],\n",
    "         'Country': ['USA', 'CHINA', 'INDIA'],\n",
    "         'Age': [10, 20, 30],\n",
    "         'Gender': ['M', 'F', np.NaN]}\n",
    "persons_df = pd.DataFrame(persons)\n",
    "persons_df"
   ]
  },
  {
   "cell_type": "code",
   "execution_count": 56,
   "metadata": {},
   "outputs": [
    {
     "data": {
      "text/plain": [
       "Index(['Age', 'Country', 'Gender', 'Name'], dtype='object')"
      ]
     },
     "execution_count": 56,
     "metadata": {},
     "output_type": "execute_result"
    }
   ],
   "source": [
    "# How to show or list all teh columns that are present\n",
    "persons_df.columns"
   ]
  },
  {
   "cell_type": "code",
   "execution_count": 50,
   "metadata": {
    "collapsed": true
   },
   "outputs": [],
   "source": [
    "# Reading an excel worksheet\n",
    "df= pd.read_excel(\"/Users/Vikas/Desktop/sample_data.xlsx\", sheetname=\"Sheet1\")"
   ]
  },
  {
   "cell_type": "code",
   "execution_count": 51,
   "metadata": {},
   "outputs": [
    {
     "data": {
      "text/html": [
       "<div>\n",
       "<style>\n",
       "    .dataframe thead tr:only-child th {\n",
       "        text-align: right;\n",
       "    }\n",
       "\n",
       "    .dataframe thead th {\n",
       "        text-align: left;\n",
       "    }\n",
       "\n",
       "    .dataframe tbody tr th {\n",
       "        vertical-align: top;\n",
       "    }\n",
       "</style>\n",
       "<table border=\"1\" class=\"dataframe\">\n",
       "  <thead>\n",
       "    <tr style=\"text-align: right;\">\n",
       "      <th></th>\n",
       "      <th>Name</th>\n",
       "      <th>Age</th>\n",
       "      <th>Gender</th>\n",
       "      <th>Zipcode</th>\n",
       "      <th>Married</th>\n",
       "      <th>Savings</th>\n",
       "    </tr>\n",
       "  </thead>\n",
       "  <tbody>\n",
       "    <tr>\n",
       "      <th>7</th>\n",
       "      <td>Row8</td>\n",
       "      <td>80</td>\n",
       "      <td>F</td>\n",
       "      <td>88776</td>\n",
       "      <td>N</td>\n",
       "      <td>70000</td>\n",
       "    </tr>\n",
       "    <tr>\n",
       "      <th>8</th>\n",
       "      <td>Row9</td>\n",
       "      <td>90</td>\n",
       "      <td>F</td>\n",
       "      <td>78654</td>\n",
       "      <td>N</td>\n",
       "      <td>60000</td>\n",
       "    </tr>\n",
       "    <tr>\n",
       "      <th>9</th>\n",
       "      <td>Row10</td>\n",
       "      <td>100</td>\n",
       "      <td>M</td>\n",
       "      <td>55545</td>\n",
       "      <td>N</td>\n",
       "      <td>55000</td>\n",
       "    </tr>\n",
       "  </tbody>\n",
       "</table>\n",
       "</div>"
      ],
      "text/plain": [
       "    Name  Age Gender  Zipcode Married  Savings\n",
       "7   Row8   80      F    88776       N    70000\n",
       "8   Row9   90      F    78654       N    60000\n",
       "9  Row10  100      M    55545       N    55000"
      ]
     },
     "execution_count": 51,
     "metadata": {},
     "output_type": "execute_result"
    }
   ],
   "source": [
    "#Check if the file is loaded correctly, you can use head or tail function\n",
    "df.head() # head by default reads the 1st 5 rows but we can parameters too\n",
    "df.head(3) # will read 1st 3 rows\n",
    "df.tail(3) # will display last 3 rows"
   ]
  },
  {
   "cell_type": "code",
   "execution_count": 52,
   "metadata": {},
   "outputs": [
    {
     "name": "stdout",
     "output_type": "stream",
     "text": [
      "              Age       Zipcode        Savings\n",
      "count   10.000000     10.000000      10.000000\n",
      "mean    55.000000  46306.900000   54200.000000\n",
      "std     30.276504  32926.531968   39196.938656\n",
      "min     10.000000   8820.000000    2000.000000\n",
      "25%     32.500000  19049.000000   26250.000000\n",
      "50%     55.000000  39594.500000   57500.000000\n",
      "75%     77.500000  72876.750000   67500.000000\n",
      "max    100.000000  98765.000000  125000.000000\n"
     ]
    }
   ],
   "source": [
    "# Stats for numeric data\n",
    "stats = df.describe()\n",
    "print(stats)"
   ]
  },
  {
   "cell_type": "code",
   "execution_count": 182,
   "metadata": {},
   "outputs": [
    {
     "data": {
      "text/plain": [
       "542000"
      ]
     },
     "execution_count": 182,
     "metadata": {},
     "output_type": "execute_result"
    }
   ],
   "source": [
    "df[\"Gender\"].unique() # Unique Genders\n",
    "df[\"Gender\"].value_counts() # Count , Group by Gender\n",
    "df[\"Savings\"].sum() # total savings"
   ]
  },
  {
   "cell_type": "code",
   "execution_count": 186,
   "metadata": {},
   "outputs": [
    {
     "data": {
      "text/html": [
       "<div>\n",
       "<style>\n",
       "    .dataframe thead tr:only-child th {\n",
       "        text-align: right;\n",
       "    }\n",
       "\n",
       "    .dataframe thead th {\n",
       "        text-align: left;\n",
       "    }\n",
       "\n",
       "    .dataframe tbody tr th {\n",
       "        vertical-align: top;\n",
       "    }\n",
       "</style>\n",
       "<table border=\"1\" class=\"dataframe\">\n",
       "  <thead>\n",
       "    <tr style=\"text-align: right;\">\n",
       "      <th></th>\n",
       "      <th>First_Name</th>\n",
       "      <th>Age</th>\n",
       "      <th>Gender</th>\n",
       "      <th>Zipcode</th>\n",
       "      <th>Married</th>\n",
       "      <th>Assets</th>\n",
       "      <th>New Age</th>\n",
       "    </tr>\n",
       "  </thead>\n",
       "  <tbody>\n",
       "    <tr>\n",
       "      <th>0</th>\n",
       "      <td>Row1</td>\n",
       "      <td>10</td>\n",
       "      <td>M</td>\n",
       "      <td>8820</td>\n",
       "      <td>N</td>\n",
       "      <td>5000</td>\n",
       "      <td>11</td>\n",
       "    </tr>\n",
       "    <tr>\n",
       "      <th>1</th>\n",
       "      <td>Row2</td>\n",
       "      <td>20</td>\n",
       "      <td>F</td>\n",
       "      <td>33511</td>\n",
       "      <td>N</td>\n",
       "      <td>2000</td>\n",
       "      <td>21</td>\n",
       "    </tr>\n",
       "    <tr>\n",
       "      <th>2</th>\n",
       "      <td>Row3</td>\n",
       "      <td>30</td>\n",
       "      <td>M</td>\n",
       "      <td>17654</td>\n",
       "      <td>N</td>\n",
       "      <td>20000</td>\n",
       "      <td>31</td>\n",
       "    </tr>\n",
       "    <tr>\n",
       "      <th>3</th>\n",
       "      <td>Row4</td>\n",
       "      <td>40</td>\n",
       "      <td>F</td>\n",
       "      <td>45678</td>\n",
       "      <td>Y</td>\n",
       "      <td>45000</td>\n",
       "      <td>41</td>\n",
       "    </tr>\n",
       "    <tr>\n",
       "      <th>4</th>\n",
       "      <td>Row5</td>\n",
       "      <td>50</td>\n",
       "      <td>M</td>\n",
       "      <td>98765</td>\n",
       "      <td>Y</td>\n",
       "      <td>60000</td>\n",
       "      <td>51</td>\n",
       "    </tr>\n",
       "    <tr>\n",
       "      <th>5</th>\n",
       "      <td>Row6</td>\n",
       "      <td>60</td>\n",
       "      <td>F</td>\n",
       "      <td>23234</td>\n",
       "      <td>Y</td>\n",
       "      <td>100000</td>\n",
       "      <td>61</td>\n",
       "    </tr>\n",
       "    <tr>\n",
       "      <th>6</th>\n",
       "      <td>Row7</td>\n",
       "      <td>70</td>\n",
       "      <td>M</td>\n",
       "      <td>12432</td>\n",
       "      <td>Y</td>\n",
       "      <td>125000</td>\n",
       "      <td>71</td>\n",
       "    </tr>\n",
       "    <tr>\n",
       "      <th>7</th>\n",
       "      <td>Row8</td>\n",
       "      <td>80</td>\n",
       "      <td>F</td>\n",
       "      <td>88776</td>\n",
       "      <td>N</td>\n",
       "      <td>70000</td>\n",
       "      <td>81</td>\n",
       "    </tr>\n",
       "    <tr>\n",
       "      <th>8</th>\n",
       "      <td>Row9</td>\n",
       "      <td>90</td>\n",
       "      <td>F</td>\n",
       "      <td>78654</td>\n",
       "      <td>N</td>\n",
       "      <td>60000</td>\n",
       "      <td>91</td>\n",
       "    </tr>\n",
       "    <tr>\n",
       "      <th>9</th>\n",
       "      <td>Row10</td>\n",
       "      <td>100</td>\n",
       "      <td>M</td>\n",
       "      <td>55545</td>\n",
       "      <td>N</td>\n",
       "      <td>55000</td>\n",
       "      <td>101</td>\n",
       "    </tr>\n",
       "  </tbody>\n",
       "</table>\n",
       "</div>"
      ],
      "text/plain": [
       "  First_Name  Age Gender  Zipcode Married  Assets  New Age\n",
       "0       Row1   10      M     8820       N    5000       11\n",
       "1       Row2   20      F    33511       N    2000       21\n",
       "2       Row3   30      M    17654       N   20000       31\n",
       "3       Row4   40      F    45678       Y   45000       41\n",
       "4       Row5   50      M    98765       Y   60000       51\n",
       "5       Row6   60      F    23234       Y  100000       61\n",
       "6       Row7   70      M    12432       Y  125000       71\n",
       "7       Row8   80      F    88776       N   70000       81\n",
       "8       Row9   90      F    78654       N   60000       91\n",
       "9      Row10  100      M    55545       N   55000      101"
      ]
     },
     "execution_count": 186,
     "metadata": {},
     "output_type": "execute_result"
    }
   ],
   "source": [
    "#Lets change the column Names\n",
    "df.rename(columns={\"Savings\": \"Assets\"}) # Change one column\n",
    "df.rename(columns={\"Savings\": \"Assets\", \"Name\":\"First_Name\"}) # Or Multiple columns"
   ]
  },
  {
   "cell_type": "code",
   "execution_count": 189,
   "metadata": {},
   "outputs": [
    {
     "name": "stdout",
     "output_type": "stream",
     "text": [
      "    Name  Age Gender  Zipcode Married  Savings  New Age\n",
      "0   Row1   10      M     8820       N     5000       11\n",
      "1   Row2   20      F    33511       N     2000       21\n",
      "2   Row3   30      M    17654       N    20000       31\n",
      "3   Row4   40      F    45678       Y    45000       41\n",
      "4   Row5   50      M    98765       Y    60000       51\n",
      "5   Row6   60      F    23234       Y   100000       61\n",
      "6   Row7   70      M    12432       Y   125000       71\n",
      "7   Row8   80      F    88776       N    70000       81\n",
      "8   Row9   90      F    78654       N    60000       91\n",
      "9  Row10  100      M    55545       N    55000      101\n",
      "    Name  Age Gender  Zipcode Married  Savings\n",
      "0   Row1   10      M     8820       N     5000\n",
      "1   Row2   20      F    33511       N     2000\n",
      "2   Row3   30      M    17654       N    20000\n",
      "3   Row4   40      F    45678       Y    45000\n",
      "4   Row5   50      M    98765       Y    60000\n",
      "5   Row6   60      F    23234       Y   100000\n",
      "6   Row7   70      M    12432       Y   125000\n",
      "7   Row8   80      F    88776       N    70000\n",
      "8   Row9   90      F    78654       N    60000\n",
      "9  Row10  100      M    55545       N    55000\n"
     ]
    }
   ],
   "source": [
    "# Add a new column to existing dataframe\n",
    "new_age = df[\"Age\"]+1\n",
    "df[\"New Age\"] = new_age\n",
    "print(df)\n",
    "\n",
    "# Delete the extra column we addeds\n",
    "del df['New Age']\n",
    "print(df)"
   ]
  },
  {
   "cell_type": "code",
   "execution_count": 176,
   "metadata": {},
   "outputs": [
    {
     "data": {
      "text/html": [
       "<div>\n",
       "<style>\n",
       "    .dataframe thead tr:only-child th {\n",
       "        text-align: right;\n",
       "    }\n",
       "\n",
       "    .dataframe thead th {\n",
       "        text-align: left;\n",
       "    }\n",
       "\n",
       "    .dataframe tbody tr th {\n",
       "        vertical-align: top;\n",
       "    }\n",
       "</style>\n",
       "<table border=\"1\" class=\"dataframe\">\n",
       "  <thead>\n",
       "    <tr style=\"text-align: right;\">\n",
       "      <th></th>\n",
       "      <th>Age</th>\n",
       "      <th>Savings</th>\n",
       "    </tr>\n",
       "  </thead>\n",
       "  <tbody>\n",
       "    <tr>\n",
       "      <th>0</th>\n",
       "      <td>10</td>\n",
       "      <td>5000</td>\n",
       "    </tr>\n",
       "    <tr>\n",
       "      <th>1</th>\n",
       "      <td>20</td>\n",
       "      <td>2000</td>\n",
       "    </tr>\n",
       "    <tr>\n",
       "      <th>2</th>\n",
       "      <td>30</td>\n",
       "      <td>20000</td>\n",
       "    </tr>\n",
       "  </tbody>\n",
       "</table>\n",
       "</div>"
      ],
      "text/plain": [
       "   Age  Savings\n",
       "0   10     5000\n",
       "1   20     2000\n",
       "2   30    20000"
      ]
     },
     "execution_count": 176,
     "metadata": {},
     "output_type": "execute_result"
    }
   ],
   "source": [
    "df= pd.read_excel(\"/Users/Vikas/Desktop/sample_data.xlsx\", sheetname=\"Sheet1\")\n",
    "df[[\"Age\", \"Savings\"]] # What if we want to display only two columns \"Age\" & \"Savings\"\n",
    "df[[\"Age\", \"Savings\"]].head(3) # What if we want to display only two columns \"Age\" & \"Savings\" but only 1st 3 rows"
   ]
  },
  {
   "cell_type": "code",
   "execution_count": 53,
   "metadata": {},
   "outputs": [
    {
     "data": {
      "text/html": [
       "<div>\n",
       "<style>\n",
       "    .dataframe thead tr:only-child th {\n",
       "        text-align: right;\n",
       "    }\n",
       "\n",
       "    .dataframe thead th {\n",
       "        text-align: left;\n",
       "    }\n",
       "\n",
       "    .dataframe tbody tr th {\n",
       "        vertical-align: top;\n",
       "    }\n",
       "</style>\n",
       "<table border=\"1\" class=\"dataframe\">\n",
       "  <thead>\n",
       "    <tr style=\"text-align: right;\">\n",
       "      <th></th>\n",
       "      <th>Married</th>\n",
       "    </tr>\n",
       "  </thead>\n",
       "  <tbody>\n",
       "    <tr>\n",
       "      <th>8</th>\n",
       "      <td>N</td>\n",
       "    </tr>\n",
       "  </tbody>\n",
       "</table>\n",
       "</div>"
      ],
      "text/plain": [
       "  Married\n",
       "8       N"
      ]
     },
     "execution_count": 53,
     "metadata": {},
     "output_type": "execute_result"
    }
   ],
   "source": [
    "#iloc is used as dataframe.iloc[startrow:endrow,startcol:endcol]\n",
    "df.iloc[:,0:2].head(3)  # Remember that Python does not slice inclusive of the ending index. \n",
    "                        # so this one display only col 0 and col 1 not col 0,1 & 2\n",
    "\n",
    "df.iloc[-1:,-1:]        # displays the last row and last col\n",
    "df.iloc[-2:-1,-2:-1]    # displays the 2nd to last row and 2nd to last col"
   ]
  },
  {
   "cell_type": "code",
   "execution_count": 56,
   "metadata": {},
   "outputs": [
    {
     "data": {
      "text/html": [
       "<div>\n",
       "<style>\n",
       "    .dataframe thead tr:only-child th {\n",
       "        text-align: right;\n",
       "    }\n",
       "\n",
       "    .dataframe thead th {\n",
       "        text-align: left;\n",
       "    }\n",
       "\n",
       "    .dataframe tbody tr th {\n",
       "        vertical-align: top;\n",
       "    }\n",
       "</style>\n",
       "<table border=\"1\" class=\"dataframe\">\n",
       "  <thead>\n",
       "    <tr style=\"text-align: right;\">\n",
       "      <th></th>\n",
       "      <th>Name</th>\n",
       "      <th>Age</th>\n",
       "      <th>Gender</th>\n",
       "      <th>Zipcode</th>\n",
       "      <th>Married</th>\n",
       "      <th>Savings</th>\n",
       "    </tr>\n",
       "  </thead>\n",
       "  <tbody>\n",
       "    <tr>\n",
       "      <th>8</th>\n",
       "      <td>Row9</td>\n",
       "      <td>90</td>\n",
       "      <td>F</td>\n",
       "      <td>78654</td>\n",
       "      <td>N</td>\n",
       "      <td>60000</td>\n",
       "    </tr>\n",
       "    <tr>\n",
       "      <th>9</th>\n",
       "      <td>Row10</td>\n",
       "      <td>100</td>\n",
       "      <td>M</td>\n",
       "      <td>55545</td>\n",
       "      <td>N</td>\n",
       "      <td>55000</td>\n",
       "    </tr>\n",
       "  </tbody>\n",
       "</table>\n",
       "</div>"
      ],
      "text/plain": [
       "    Name  Age Gender  Zipcode Married  Savings\n",
       "8   Row9   90      F    78654       N    60000\n",
       "9  Row10  100      M    55545       N    55000"
      ]
     },
     "execution_count": 56,
     "metadata": {},
     "output_type": "execute_result"
    }
   ],
   "source": [
    "#loc is used as dataframe.loc[[startrow,endrow] OR startkeyvalue:endkeyvalue,[startcol,endcol]OR[startcol:endcol]]\n",
    "#if no column name specificed uses teh index row which is numeric\n",
    "df.loc[7] # loc(ate) row with the id value 7 , output of this is a series object\n",
    "df.loc[5:7] # loc(ate) row with the id values from 5 to 7  with all columns, output of this is a data frame object\n",
    "df.loc[5:7,'Name':'Gender'] # loc(ate) row with the id values from 5 to 7  and cols from Name to Gender (including Age as well)\n",
    "\n",
    "df.loc[[5,7],['Name','Gender']] # loc(ate) row with the id values from 5 and 7 with 2 columns Name & Gender\n",
    "df.loc[:,'Name':'Gender'] # display all rows and all columns starting from Name till (incluiding) Gender\n",
    "df.loc[:,:] # display all rows and all columns no filter criteria\n",
    "df.loc[:,:].tail(2) # display last 2 rows and all columns no filter criteria"
   ]
  },
  {
   "cell_type": "code",
   "execution_count": 83,
   "metadata": {},
   "outputs": [
    {
     "data": {
      "text/html": [
       "<div>\n",
       "<style>\n",
       "    .dataframe thead tr:only-child th {\n",
       "        text-align: right;\n",
       "    }\n",
       "\n",
       "    .dataframe thead th {\n",
       "        text-align: left;\n",
       "    }\n",
       "\n",
       "    .dataframe tbody tr th {\n",
       "        vertical-align: top;\n",
       "    }\n",
       "</style>\n",
       "<table border=\"1\" class=\"dataframe\">\n",
       "  <thead>\n",
       "    <tr style=\"text-align: right;\">\n",
       "      <th></th>\n",
       "      <th>Name</th>\n",
       "      <th>Age</th>\n",
       "      <th>Zipcode</th>\n",
       "      <th>Married</th>\n",
       "      <th>Savings</th>\n",
       "    </tr>\n",
       "    <tr>\n",
       "      <th>Gender</th>\n",
       "      <th></th>\n",
       "      <th></th>\n",
       "      <th></th>\n",
       "      <th></th>\n",
       "      <th></th>\n",
       "    </tr>\n",
       "  </thead>\n",
       "  <tbody>\n",
       "    <tr>\n",
       "      <th>M</th>\n",
       "      <td>Row1</td>\n",
       "      <td>10</td>\n",
       "      <td>8820</td>\n",
       "      <td>N</td>\n",
       "      <td>5000</td>\n",
       "    </tr>\n",
       "    <tr>\n",
       "      <th>M</th>\n",
       "      <td>Row3</td>\n",
       "      <td>30</td>\n",
       "      <td>17654</td>\n",
       "      <td>N</td>\n",
       "      <td>20000</td>\n",
       "    </tr>\n",
       "    <tr>\n",
       "      <th>M</th>\n",
       "      <td>Row5</td>\n",
       "      <td>50</td>\n",
       "      <td>98765</td>\n",
       "      <td>Y</td>\n",
       "      <td>60000</td>\n",
       "    </tr>\n",
       "    <tr>\n",
       "      <th>M</th>\n",
       "      <td>Row7</td>\n",
       "      <td>70</td>\n",
       "      <td>12432</td>\n",
       "      <td>Y</td>\n",
       "      <td>125000</td>\n",
       "    </tr>\n",
       "    <tr>\n",
       "      <th>M</th>\n",
       "      <td>Row10</td>\n",
       "      <td>100</td>\n",
       "      <td>55545</td>\n",
       "      <td>N</td>\n",
       "      <td>55000</td>\n",
       "    </tr>\n",
       "  </tbody>\n",
       "</table>\n",
       "</div>"
      ],
      "text/plain": [
       "         Name  Age  Zipcode Married  Savings\n",
       "Gender                                      \n",
       "M        Row1   10     8820       N     5000\n",
       "M        Row3   30    17654       N    20000\n",
       "M        Row5   50    98765       Y    60000\n",
       "M        Row7   70    12432       Y   125000\n",
       "M       Row10  100    55545       N    55000"
      ]
     },
     "execution_count": 83,
     "metadata": {},
     "output_type": "execute_result"
    }
   ],
   "source": [
    "#What if we want to use loc by replacing the index column with one of teh actual columns\n",
    "#first step is to replace the index column which can be acheived as \n",
    "#for this specific example we will recreate the dataframe as it owerwrites the id column everytime\n",
    "df= pd.read_excel(\"/Users/Vikas/Desktop/sample_data.xlsx\", sheetname=\"Sheet1\")\n",
    "df.set_index(\"Gender\", inplace=True) \n",
    "df.head(3) # Duplicate values are allowed look at the output\n",
    "#Now we can search based on the Gender value as\n",
    "df.loc['M']"
   ]
  },
  {
   "cell_type": "code",
   "execution_count": 107,
   "metadata": {},
   "outputs": [
    {
     "data": {
      "text/html": [
       "<div>\n",
       "<style>\n",
       "    .dataframe thead tr:only-child th {\n",
       "        text-align: right;\n",
       "    }\n",
       "\n",
       "    .dataframe thead th {\n",
       "        text-align: left;\n",
       "    }\n",
       "\n",
       "    .dataframe tbody tr th {\n",
       "        vertical-align: top;\n",
       "    }\n",
       "</style>\n",
       "<table border=\"1\" class=\"dataframe\">\n",
       "  <thead>\n",
       "    <tr style=\"text-align: right;\">\n",
       "      <th></th>\n",
       "      <th>Name</th>\n",
       "      <th>Age</th>\n",
       "      <th>Gender</th>\n",
       "      <th>Zipcode</th>\n",
       "      <th>Married</th>\n",
       "      <th>Savings</th>\n",
       "    </tr>\n",
       "  </thead>\n",
       "  <tbody>\n",
       "    <tr>\n",
       "      <th>1</th>\n",
       "      <td>Row2</td>\n",
       "      <td>20</td>\n",
       "      <td>F</td>\n",
       "      <td>33511</td>\n",
       "      <td>N</td>\n",
       "      <td>2000</td>\n",
       "    </tr>\n",
       "  </tbody>\n",
       "</table>\n",
       "</div>"
      ],
      "text/plain": [
       "   Name  Age Gender  Zipcode Married  Savings\n",
       "1  Row2   20      F    33511       N     2000"
      ]
     },
     "execution_count": 107,
     "metadata": {},
     "output_type": "execute_result"
    }
   ],
   "source": [
    "#What if we want to use loc for specific columns such as show only Married individuals\n",
    "df= pd.read_excel(\"/Users/Vikas/Desktop/sample_data.xlsx\", sheetname=\"Sheet1\")\n",
    "df.loc[df['Married'] == 'Y',:]# show all columns for all rows that have Married as Y\n",
    "df.loc[df['Married'] == 'Y', 'Name']# show Name (only 1 column) for all rows that have Married as Y\n",
    "df.loc[df['Married'] == 'Y', ['Name','Age']]# show Name & Age (only 2 column) for all rows that have Married as Y\n",
    "df.loc[df['Married'] == 'Y', 'Name':'Zipcode']# show Name & Age (only 2 column) for all rows that have Married as Y\n",
    "\n",
    "df.loc[df['Age'] > 50,:]# show all columns for all rows that have Age more then 50\n",
    "\n",
    "df.loc[(df['Age'] > 50) & (df['Age'] < 80) ,:]# show all columns for rows having Age more then 50 and less then 80\n",
    "df.loc[(df['Age'] > 50) | (df['Age'] < 80) ,:]# show all columns for rows having Age more then 50 or less then 80\n",
    "                                              # Above statement actually show all records\n",
    "df.loc[df['Name'].isin(['Row1','Row2']),:]# show all columns for rows that have names in Row1 & Row2\n",
    "df.loc[(df['Name'].isin(['Row1','Row2'])) & (df['Age'] == 20),:]# show all columns for rows that have names in Row1 & Row2"
   ]
  },
  {
   "cell_type": "code",
   "execution_count": 111,
   "metadata": {},
   "outputs": [
    {
     "data": {
      "text/html": [
       "<div>\n",
       "<style>\n",
       "    .dataframe thead tr:only-child th {\n",
       "        text-align: right;\n",
       "    }\n",
       "\n",
       "    .dataframe thead th {\n",
       "        text-align: left;\n",
       "    }\n",
       "\n",
       "    .dataframe tbody tr th {\n",
       "        vertical-align: top;\n",
       "    }\n",
       "</style>\n",
       "<table border=\"1\" class=\"dataframe\">\n",
       "  <thead>\n",
       "    <tr style=\"text-align: right;\">\n",
       "      <th></th>\n",
       "      <th>Name</th>\n",
       "      <th>Age</th>\n",
       "      <th>Gender</th>\n",
       "      <th>Zipcode</th>\n",
       "      <th>Married</th>\n",
       "      <th>Savings</th>\n",
       "    </tr>\n",
       "  </thead>\n",
       "  <tbody>\n",
       "    <tr>\n",
       "      <th>0</th>\n",
       "      <td>Vikas</td>\n",
       "      <td>21</td>\n",
       "      <td>M</td>\n",
       "      <td>8820</td>\n",
       "      <td>N</td>\n",
       "      <td>5000</td>\n",
       "    </tr>\n",
       "    <tr>\n",
       "      <th>1</th>\n",
       "      <td>Row2</td>\n",
       "      <td>20</td>\n",
       "      <td>F</td>\n",
       "      <td>33511</td>\n",
       "      <td>N</td>\n",
       "      <td>2000</td>\n",
       "    </tr>\n",
       "  </tbody>\n",
       "</table>\n",
       "</div>"
      ],
      "text/plain": [
       "    Name  Age Gender  Zipcode Married  Savings\n",
       "0  Vikas   21      M     8820       N     5000\n",
       "1   Row2   20      F    33511       N     2000"
      ]
     },
     "execution_count": 111,
     "metadata": {},
     "output_type": "execute_result"
    }
   ],
   "source": [
    "#How do we update a specific cell\n",
    "# two options\n",
    "#df.at[index, 'col_name'] = x #this is faster\n",
    "#OR\n",
    "#df.loc[index, 'COL_NAME'] = x #compared to this\n",
    "df= pd.read_excel(\"/Users/Vikas/Desktop/sample_data.xlsx\", sheetname=\"Sheet1\")\n",
    "df.head(2)\n",
    "df.at[0,'Name'] = \"Vikas\"\n",
    "df.loc[0,'Age'] = 21\n",
    "df.head(2)"
   ]
  },
  {
   "cell_type": "code",
   "execution_count": 164,
   "metadata": {},
   "outputs": [
    {
     "name": "stdout",
     "output_type": "stream",
     "text": [
      "    Name  Age Gender  Zipcode Married  Savings\n",
      "5   Row6   60      F    23234       Y   100000\n",
      "6   Row7   70      M    12432       Y   125000\n",
      "7   Row8   80      F    88776       N    70000\n",
      "8   Row9   90      F    78654       N    60000\n",
      "9  Row10  100      M    55545       N    55000\n"
     ]
    },
    {
     "data": {
      "text/html": [
       "<div>\n",
       "<style>\n",
       "    .dataframe thead tr:only-child th {\n",
       "        text-align: right;\n",
       "    }\n",
       "\n",
       "    .dataframe thead th {\n",
       "        text-align: left;\n",
       "    }\n",
       "\n",
       "    .dataframe tbody tr th {\n",
       "        vertical-align: top;\n",
       "    }\n",
       "</style>\n",
       "<table border=\"1\" class=\"dataframe\">\n",
       "  <thead>\n",
       "    <tr style=\"text-align: right;\">\n",
       "      <th></th>\n",
       "      <th>Name</th>\n",
       "      <th>Age</th>\n",
       "      <th>Gender</th>\n",
       "      <th>Zipcode</th>\n",
       "      <th>Married</th>\n",
       "      <th>Savings</th>\n",
       "    </tr>\n",
       "  </thead>\n",
       "  <tbody>\n",
       "    <tr>\n",
       "      <th>0</th>\n",
       "      <td>Row1</td>\n",
       "      <td>10</td>\n",
       "      <td>M</td>\n",
       "      <td>8820</td>\n",
       "      <td>N</td>\n",
       "      <td>5000</td>\n",
       "    </tr>\n",
       "    <tr>\n",
       "      <th>1</th>\n",
       "      <td>Row2</td>\n",
       "      <td>20</td>\n",
       "      <td>F</td>\n",
       "      <td>33511</td>\n",
       "      <td>N</td>\n",
       "      <td>2000</td>\n",
       "    </tr>\n",
       "    <tr>\n",
       "      <th>7</th>\n",
       "      <td>Row8</td>\n",
       "      <td>80</td>\n",
       "      <td>F</td>\n",
       "      <td>88776</td>\n",
       "      <td>N</td>\n",
       "      <td>70000</td>\n",
       "    </tr>\n",
       "    <tr>\n",
       "      <th>8</th>\n",
       "      <td>Row9</td>\n",
       "      <td>90</td>\n",
       "      <td>F</td>\n",
       "      <td>78654</td>\n",
       "      <td>N</td>\n",
       "      <td>60000</td>\n",
       "    </tr>\n",
       "    <tr>\n",
       "      <th>9</th>\n",
       "      <td>Row10</td>\n",
       "      <td>100</td>\n",
       "      <td>M</td>\n",
       "      <td>55545</td>\n",
       "      <td>N</td>\n",
       "      <td>55000</td>\n",
       "    </tr>\n",
       "  </tbody>\n",
       "</table>\n",
       "</div>"
      ],
      "text/plain": [
       "    Name  Age Gender  Zipcode Married  Savings\n",
       "0   Row1   10      M     8820       N     5000\n",
       "1   Row2   20      F    33511       N     2000\n",
       "7   Row8   80      F    88776       N    70000\n",
       "8   Row9   90      F    78654       N    60000\n",
       "9  Row10  100      M    55545       N    55000"
      ]
     },
     "execution_count": 164,
     "metadata": {},
     "output_type": "execute_result"
    }
   ],
   "source": [
    "# Any other way to filter teh python data?\n",
    "# yes using the query method\n",
    "df= pd.read_excel(\"/Users/Vikas/Desktop/sample_data.xlsx\", sheetname=\"Sheet1\")\n",
    "df['Name'].notnull() # display True or False based on the condition notnull\n",
    "df['Name'].isnull() # display True or False based on the condition isnull\n",
    "\n",
    "filtered_df = df.query(\"Age>50\")\n",
    "print(filtered_df) # why are we using print here, just to show that we can use print :-)\n",
    "\n",
    "df.query(\"Zipcode > Savings\") # Compare 2 columns from the same dataframe\n",
    "df[df.Zipcode > df.Savings]  # same result as the above one\n",
    "\n",
    "df.query(\"Zipcode > Savings and Married == 'N'\") # multiple conditions\n",
    "\n",
    "## More complex examples available here \n",
    "## http://pandas.pydata.org/pandas-docs/stable/indexing.html#the-query-method-experimental"
   ]
  },
  {
   "cell_type": "code",
   "execution_count": 22,
   "metadata": {},
   "outputs": [
    {
     "name": "stdout",
     "output_type": "stream",
     "text": [
      "    Age Country  Dummy_Column Gender      Name\n",
      "0  10.0     USA           NaN      M  Person 1\n",
      "1  20.0   CHINA           NaN      F  Person 2\n",
      "2  30.0   INDIA           NaN    NaN  Person 3\n",
      "3   NaN     NaN           NaN    NaN       NaN\n"
     ]
    },
    {
     "data": {
      "text/html": [
       "<div>\n",
       "<style>\n",
       "    .dataframe thead tr:only-child th {\n",
       "        text-align: right;\n",
       "    }\n",
       "\n",
       "    .dataframe thead th {\n",
       "        text-align: left;\n",
       "    }\n",
       "\n",
       "    .dataframe tbody tr th {\n",
       "        vertical-align: top;\n",
       "    }\n",
       "</style>\n",
       "<table border=\"1\" class=\"dataframe\">\n",
       "  <thead>\n",
       "    <tr style=\"text-align: right;\">\n",
       "      <th></th>\n",
       "      <th>Age</th>\n",
       "      <th>Country</th>\n",
       "      <th>Gender</th>\n",
       "      <th>Name</th>\n",
       "    </tr>\n",
       "  </thead>\n",
       "  <tbody>\n",
       "    <tr>\n",
       "      <th>0</th>\n",
       "      <td>10.0</td>\n",
       "      <td>USA</td>\n",
       "      <td>M</td>\n",
       "      <td>Person 1</td>\n",
       "    </tr>\n",
       "    <tr>\n",
       "      <th>1</th>\n",
       "      <td>20.0</td>\n",
       "      <td>CHINA</td>\n",
       "      <td>F</td>\n",
       "      <td>Person 2</td>\n",
       "    </tr>\n",
       "    <tr>\n",
       "      <th>2</th>\n",
       "      <td>30.0</td>\n",
       "      <td>INDIA</td>\n",
       "      <td>NaN</td>\n",
       "      <td>Person 3</td>\n",
       "    </tr>\n",
       "    <tr>\n",
       "      <th>3</th>\n",
       "      <td>NaN</td>\n",
       "      <td>NaN</td>\n",
       "      <td>NaN</td>\n",
       "      <td>NaN</td>\n",
       "    </tr>\n",
       "  </tbody>\n",
       "</table>\n",
       "</div>"
      ],
      "text/plain": [
       "    Age Country Gender      Name\n",
       "0  10.0     USA      M  Person 1\n",
       "1  20.0   CHINA      F  Person 2\n",
       "2  30.0   INDIA    NaN  Person 3\n",
       "3   NaN     NaN    NaN       NaN"
      ]
     },
     "execution_count": 22,
     "metadata": {},
     "output_type": "execute_result"
    }
   ],
   "source": [
    "# Drop all rows with missing information\n",
    "# Syntax DataFrame.dropna(axis=0, how='any', thresh=None, subset=None, inplace=False)\n",
    "# First Create a dataframe using dictonaries of list with some Missing Values\n",
    "persons = {'Name': ['Person 1', 'Person 2', 'Person 3', np.NaN],\n",
    "         'Country': ['USA', 'CHINA', 'INDIA', np.NaN],\n",
    "         'Age': [10, 20, 30, np.NaN],\n",
    "         'Gender': ['M', 'F', np.NaN, np.NaN],\n",
    "         'Dummy_Column': [np.NaN, np.NaN, np.NaN, np.NaN] }\n",
    "persons_df = pd.DataFrame(persons)\n",
    "print(persons_df)\n",
    "\n",
    "# Lets drop columns where all elements are nan\n",
    "#persons_df.dropna(axis=1, how='all') # axis 1 signifies columns\n",
    "\n",
    "# Lets drop all rows where all elements are nan\n",
    "#persons_df.dropna(axis=0, how='all') # axis 0 signifies rows \n",
    "\n",
    "# Now drop columns where any of the elements is nan\n",
    "# persons_df.dropna(axis=1, how='any') # Will delete everythign as each column has NaN \n",
    "\n",
    "# Next drop Rows where any of the elements is nan\n",
    "#persons_df.dropna(axis=0, how='any') # Will delete everythign as each row has NaN \n",
    "\n",
    "# Retain rows with 3 or more non-na values\n",
    "persons_df.dropna(axis =1, thresh=2)"
   ]
  },
  {
   "cell_type": "code",
   "execution_count": null,
   "metadata": {
    "collapsed": true
   },
   "outputs": [],
   "source": [
    "# Finally write back to a new Excel file\n",
    "persons_df.to_excel(\"new_excel.xlsx\", index=False)"
   ]
  }
 ],
 "metadata": {
  "kernelspec": {
   "display_name": "Python 3",
   "language": "python",
   "name": "python3"
  },
  "language_info": {
   "codemirror_mode": {
    "name": "ipython",
    "version": 3
   },
   "file_extension": ".py",
   "mimetype": "text/x-python",
   "name": "python",
   "nbconvert_exporter": "python",
   "pygments_lexer": "ipython3",
   "version": "3.6.3"
  }
 },
 "nbformat": 4,
 "nbformat_minor": 2
}
